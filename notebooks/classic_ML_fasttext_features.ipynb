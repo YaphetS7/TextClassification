{
  "nbformat": 4,
  "nbformat_minor": 0,
  "metadata": {
    "colab": {
      "name": "classic_ML_fasttext_features.ipynb",
      "provenance": []
    },
    "kernelspec": {
      "display_name": "Python 3",
      "name": "python3"
    }
  },
  "cells": [
    {
      "cell_type": "code",
      "metadata": {
        "colab": {
          "base_uri": "https://localhost:8080/"
        },
        "id": "HUQyohSM38Uz",
        "outputId": "365d4af9-590f-4f56-a7b9-7b65832c4acc"
      },
      "source": [
        "from google.colab import drive\r\n",
        "drive.mount('/content/drive')"
      ],
      "execution_count": null,
      "outputs": [
        {
          "output_type": "stream",
          "text": [
            "Mounted at /content/drive\n"
          ],
          "name": "stdout"
        }
      ]
    },
    {
      "cell_type": "code",
      "metadata": {
        "id": "U256_dg639yY"
      },
      "source": [
        "!pip install fasttext\r\n",
        "!pip install pymorphy2"
      ],
      "execution_count": null,
      "outputs": []
    },
    {
      "cell_type": "code",
      "metadata": {
        "colab": {
          "base_uri": "https://localhost:8080/"
        },
        "id": "E0D_F5gZ4a_4",
        "outputId": "d0dc54c9-5645-4711-b87d-b9b1767d9880"
      },
      "source": [
        "import pandas as pd\r\n",
        "import numpy as np\r\n",
        "import seaborn as sns\r\n",
        "\r\n",
        "import fasttext\r\n",
        "import fasttext.util\r\n",
        "\r\n",
        "from spacy.lang.ru import Russian\r\n",
        "import nltk\r\n",
        "from nltk.corpus import stopwords\r\n",
        "from string import punctuation\r\n",
        "\r\n",
        "from joblib import dump, load\r\n",
        "\r\n",
        "from sklearn.linear_model import LogisticRegression\r\n",
        "from sklearn.svm import SVC\r\n",
        "from sklearn.ensemble import RandomForestClassifier\r\n",
        "from sklearn.metrics import f1_score\r\n",
        "from sklearn.metrics import accuracy_score\r\n",
        "from sklearn.metrics import confusion_matrix\r\n",
        "\r\n",
        "nltk.download(\"stopwords\")"
      ],
      "execution_count": null,
      "outputs": [
        {
          "output_type": "stream",
          "text": [
            "[nltk_data] Downloading package stopwords to /root/nltk_data...\n",
            "[nltk_data]   Unzipping corpora/stopwords.zip.\n"
          ],
          "name": "stdout"
        },
        {
          "output_type": "execute_result",
          "data": {
            "text/plain": [
              "True"
            ]
          },
          "metadata": {
            "tags": []
          },
          "execution_count": 3
        }
      ]
    },
    {
      "cell_type": "code",
      "metadata": {
        "id": "wlnqza2cJQf4"
      },
      "source": [
        "import pandas as pd\r\n",
        "import seaborn as sns\r\n",
        "import numpy as np"
      ],
      "execution_count": null,
      "outputs": []
    },
    {
      "cell_type": "code",
      "metadata": {
        "id": "4pLLM2QJ4h-u"
      },
      "source": [
        "train = pd.read_csv('trainSet.csv')\r\n",
        "test = pd.read_csv('testSet.csv')"
      ],
      "execution_count": null,
      "outputs": []
    },
    {
      "cell_type": "code",
      "metadata": {
        "id": "HQLA9u6W4uhv"
      },
      "source": [
        "y_train = np.array(train['Class'])\r\n",
        "y_test = np.array(test['Class'])"
      ],
      "execution_count": null,
      "outputs": []
    },
    {
      "cell_type": "code",
      "metadata": {
        "colab": {
          "background_save": true,
          "base_uri": "https://localhost:8080/"
        },
        "id": "xtyVCjICiKLZ",
        "outputId": "ab94f162-b75b-46b3-a8e5-45a09d73218a"
      },
      "source": [
        "print(np.unique(y_train))\r\n",
        "print(np.unique(y_test))"
      ],
      "execution_count": null,
      "outputs": [
        {
          "output_type": "stream",
          "text": [
            "[ 1  3  8 21 22 23 31 32 41 42 43 44]\n",
            "[ 1  3  8 21 22 23 31 32 41 42 43 44 51 52 53 54 55 56 57 58 59 60 61]\n"
          ],
          "name": "stdout"
        }
      ]
    },
    {
      "cell_type": "code",
      "metadata": {
        "colab": {
          "base_uri": "https://localhost:8080/"
        },
        "id": "VKthgUqQijTj",
        "outputId": "4e6e8870-1495-4de4-e7c4-c95fe7ecd314"
      },
      "source": [
        "test = test[test['Class'] <=44]\r\n",
        "\r\n",
        "y_test = np.array(test['Class'])\r\n",
        "\r\n",
        "print(np.unique(y_train))\r\n",
        "print(np.unique(y_test))"
      ],
      "execution_count": null,
      "outputs": [
        {
          "output_type": "stream",
          "text": [
            "[ 1  3  8 21 22 23 31 32 41 42 43 44]\n",
            "[ 1  3  8 21 22 23 31 32 41 42 43 44]\n"
          ],
          "name": "stdout"
        }
      ]
    },
    {
      "cell_type": "code",
      "metadata": {
        "colab": {
          "base_uri": "https://localhost:8080/"
        },
        "id": "RkSLvoVni1YQ",
        "outputId": "d759b71b-1192-459b-e499-82e063dbe9ca"
      },
      "source": [
        "d = {}\r\n",
        "inv_d = {}\r\n",
        "l = np.unique(y_train)\r\n",
        "for i in range(len(l)):\r\n",
        "  d[i] = l[i]\r\n",
        "  inv_d[l[i]] = i\r\n",
        "print(d)\r\n",
        "print(inv_d)\r\n",
        "y_train = np.array([inv_d[i] for i in y_train])\r\n",
        "y_test = np.array([inv_d[i] for i in y_test])\r\n",
        "print(np.unique(y_train))\r\n",
        "print(np.unique(y_test))\r\n",
        "print(len(y_train))\r\n",
        "print(len(y_test))"
      ],
      "execution_count": null,
      "outputs": [
        {
          "output_type": "stream",
          "text": [
            "{0: 1, 1: 3, 2: 8, 3: 21, 4: 22, 5: 23, 6: 31, 7: 32, 8: 41, 9: 42, 10: 43, 11: 44}\n",
            "{1: 0, 3: 1, 8: 2, 21: 3, 22: 4, 23: 5, 31: 6, 32: 7, 41: 8, 42: 9, 43: 10, 44: 11}\n",
            "[ 0  1  2  3  4  5  6  7  8  9 10 11]\n",
            "[ 0  1  2  3  4  5  6  7  8  9 10 11]\n",
            "2244\n",
            "963\n"
          ],
          "name": "stdout"
        }
      ]
    },
    {
      "cell_type": "code",
      "metadata": {
        "colab": {
          "base_uri": "https://localhost:8080/"
        },
        "id": "5RqOUARsk2_h",
        "outputId": "b4453f4c-d06f-48c3-f6d1-af32765d1ee3"
      },
      "source": [
        "X_train = train['Text']\r\n",
        "X_test = test['Text']\r\n",
        "\r\n",
        "print(len(X_train))\r\n",
        "print(len(X_test))"
      ],
      "execution_count": null,
      "outputs": [
        {
          "output_type": "stream",
          "text": [
            "2244\n",
            "963\n"
          ],
          "name": "stdout"
        }
      ]
    },
    {
      "cell_type": "code",
      "metadata": {
        "colab": {
          "base_uri": "https://localhost:8080/"
        },
        "id": "OW0FkOHs5RO_",
        "outputId": "3f829a91-ad18-4d3d-ab3f-7454e3507263"
      },
      "source": [
        "ft = fasttext.load_model('drive/My Drive/cc.ru.300.bin')"
      ],
      "execution_count": null,
      "outputs": [
        {
          "output_type": "stream",
          "text": [
            "Warning : `load_model` does not return WordVectorModel or SupervisedModel any more, but a `FastText` object which is very similar.\n"
          ],
          "name": "stderr"
        }
      ]
    },
    {
      "cell_type": "code",
      "metadata": {
        "id": "A-qvU40Z48A3"
      },
      "source": [
        "russian_stopwords = stopwords.words(\"russian\")\r\n",
        "nlp = Russian()\r\n",
        "\r\n",
        "def preprocess_text(text):\r\n",
        "  tokens = text.lower()\r\n",
        "  sentence = nlp(text.lower())\r\n",
        "  tokens = [token.text for token in sentence]\r\n",
        "  tokens = [token for token in tokens if token not in russian_stopwords\\\r\n",
        "            and token != \" \" \\\r\n",
        "            and token.strip() not in punctuation]\r\n",
        "  \r\n",
        "  text = \" \".join(tokens)\r\n",
        "  \r\n",
        "  return text"
      ],
      "execution_count": null,
      "outputs": []
    },
    {
      "cell_type": "code",
      "metadata": {
        "id": "gfTGse-T556X"
      },
      "source": [
        "X_train = np.array([ft.get_sentence_vector(preprocess_text(text)) for text in X_train])\r\n",
        "X_test = np.array([ft.get_sentence_vector(preprocess_text(text)) for text in X_test])"
      ],
      "execution_count": null,
      "outputs": []
    },
    {
      "cell_type": "code",
      "metadata": {
        "id": "xMKIHY9g5ukH"
      },
      "source": [
        "clf = LogisticRegression(random_state=0).fit(X_train, y_train)"
      ],
      "execution_count": null,
      "outputs": []
    },
    {
      "cell_type": "code",
      "metadata": {
        "colab": {
          "base_uri": "https://localhost:8080/"
        },
        "id": "I8vz1pQt6IGH",
        "outputId": "939c55a0-9e39-49ba-eaa4-08a48d2e28e4"
      },
      "source": [
        "preds = clf.predict(X_test)\r\n",
        "\r\n",
        "print(f1_score(y_test, preds, average='macro'))\r\n",
        "print(accuracy_score(y_test, preds))\r\n",
        "confusion_matrix(y_test, preds)"
      ],
      "execution_count": null,
      "outputs": [
        {
          "output_type": "stream",
          "text": [
            "0.7500703125063323\n",
            "0.8307372793354102\n"
          ],
          "name": "stdout"
        },
        {
          "output_type": "execute_result",
          "data": {
            "text/plain": [
              "array([[115,   0,   7,   0,   0,   0,   0,   0,   0,   0,   0,   0],\n",
              "       [  2,  78,  10,   0,   0,   0,   0,   0,   0,   0,   0,   0],\n",
              "       [  8,   0,  70,   2,   0,   0,   0,   1,   0,   0,   0,   0],\n",
              "       [  0,   0,   0,  97,  10,   3,   0,   0,   4,   1,   1,   0],\n",
              "       [  0,   0,   0,   3,  86,   0,   1,   0,   1,   0,   2,   0],\n",
              "       [  0,   0,   0,  10,   1,  48,   0,   0,   0,   0,   0,   0],\n",
              "       [  0,   0,   0,   0,   2,   1,  66,   7,   0,   0,   0,   0],\n",
              "       [  0,   1,   0,   0,   0,   0,   1,  81,   0,   0,   0,   0],\n",
              "       [  0,   0,   0,   1,   1,   0,   0,   0, 103,   1,   3,   0],\n",
              "       [  1,   0,   0,   3,   0,   1,   0,   0,  27,  13,   0,   0],\n",
              "       [  0,   0,   0,   0,   5,   0,   0,   0,   9,   1,  43,   0],\n",
              "       [  0,   0,   0,   0,   0,  12,   0,   0,  17,   2,   0,   0]])"
            ]
          },
          "metadata": {
            "tags": []
          },
          "execution_count": 32
        }
      ]
    },
    {
      "cell_type": "code",
      "metadata": {
        "colab": {
          "base_uri": "https://localhost:8080/"
        },
        "id": "XkS5qzSTIiVy",
        "outputId": "76fb2046-dca1-43b9-d959-fb0ac92ca7e0"
      },
      "source": [
        "dump(clf, 'log_reg_fasttext.joblib')"
      ],
      "execution_count": null,
      "outputs": [
        {
          "output_type": "execute_result",
          "data": {
            "text/plain": [
              "['log_reg_fasttext.joblib']"
            ]
          },
          "metadata": {
            "tags": []
          },
          "execution_count": 33
        }
      ]
    },
    {
      "cell_type": "code",
      "metadata": {
        "id": "Ts4pkXEp6NTH"
      },
      "source": [
        "clf = SVC().fit(X_train, y_train)"
      ],
      "execution_count": null,
      "outputs": []
    },
    {
      "cell_type": "code",
      "metadata": {
        "colab": {
          "base_uri": "https://localhost:8080/"
        },
        "id": "rQTv2wrj6zTn",
        "outputId": "28a83924-5b86-40ae-d21f-9518e9249075"
      },
      "source": [
        "preds = clf.predict(X_test)\r\n",
        "\r\n",
        "print(f1_score(y_test, preds, average='macro'))\r\n",
        "print(accuracy_score(y_test, preds))\r\n",
        "confusion_matrix(y_test, preds)"
      ],
      "execution_count": null,
      "outputs": [
        {
          "output_type": "stream",
          "text": [
            "0.9183100934549612\n",
            "0.9283489096573209\n"
          ],
          "name": "stdout"
        },
        {
          "output_type": "execute_result",
          "data": {
            "text/plain": [
              "array([[118,   0,   4,   0,   0,   0,   0,   0,   0,   0,   0,   0],\n",
              "       [  1,  83,   5,   0,   0,   0,   0,   1,   0,   0,   0,   0],\n",
              "       [  4,   4,  72,   1,   0,   0,   0,   0,   0,   0,   0,   0],\n",
              "       [  0,   0,   0, 108,   4,   3,   0,   0,   0,   1,   0,   0],\n",
              "       [  0,   0,   0,   4,  85,   0,   2,   0,   0,   0,   2,   0],\n",
              "       [  0,   0,   0,   1,   1,  57,   0,   0,   0,   0,   0,   0],\n",
              "       [  0,   0,   0,   0,   0,   1,  69,   6,   0,   0,   0,   0],\n",
              "       [  0,   0,   0,   0,   0,   0,   1,  82,   0,   0,   0,   0],\n",
              "       [  0,   0,   0,   1,   0,   0,   0,   0, 108,   0,   0,   0],\n",
              "       [  0,   0,   1,   1,   0,   0,   0,   0,   7,  35,   0,   1],\n",
              "       [  0,   0,   0,   0,   3,   0,   0,   0,   1,   0,  54,   0],\n",
              "       [  0,   0,   0,   0,   0,   6,   0,   0,   2,   0,   0,  23]])"
            ]
          },
          "metadata": {
            "tags": []
          },
          "execution_count": 35
        }
      ]
    },
    {
      "cell_type": "code",
      "metadata": {
        "colab": {
          "base_uri": "https://localhost:8080/"
        },
        "id": "SewTa7BHIr8s",
        "outputId": "6f0aedd7-9a70-4e57-d654-1d493c1b571c"
      },
      "source": [
        "dump(clf, 'svm_fasttext.joblib')"
      ],
      "execution_count": null,
      "outputs": [
        {
          "output_type": "execute_result",
          "data": {
            "text/plain": [
              "['svm_fasttext.joblib']"
            ]
          },
          "metadata": {
            "tags": []
          },
          "execution_count": 36
        }
      ]
    },
    {
      "cell_type": "code",
      "metadata": {
        "id": "Y57wmufp64pH"
      },
      "source": [
        "clf = RandomForestClassifier(n_estimators=200, max_depth=16, random_state=0).fit(X_train, y_train)"
      ],
      "execution_count": null,
      "outputs": []
    },
    {
      "cell_type": "code",
      "metadata": {
        "colab": {
          "base_uri": "https://localhost:8080/"
        },
        "id": "sweo7-oN7xBv",
        "outputId": "93e4ea25-82c3-4e84-84c9-c240f2d65099"
      },
      "source": [
        "preds = clf.predict(X_test)\r\n",
        "\r\n",
        "print(f1_score(y_test, preds, average='macro'))\r\n",
        "print(accuracy_score(y_test, preds))\r\n",
        "confusion_matrix(y_test, preds)"
      ],
      "execution_count": null,
      "outputs": [
        {
          "output_type": "stream",
          "text": [
            "0.8282721096113906\n",
            "0.8733125649013499\n"
          ],
          "name": "stdout"
        },
        {
          "output_type": "execute_result",
          "data": {
            "text/plain": [
              "array([[115,   0,   7,   0,   0,   0,   0,   0,   0,   0,   0,   0],\n",
              "       [  2,  83,   5,   0,   0,   0,   0,   0,   0,   0,   0,   0],\n",
              "       [  4,   1,  75,   1,   0,   0,   0,   0,   0,   0,   0,   0],\n",
              "       [  0,   0,   0,  99,   8,   2,   0,   0,   4,   1,   2,   0],\n",
              "       [  0,   0,   0,   6,  80,   0,   3,   0,   0,   0,   4,   0],\n",
              "       [  0,   0,   0,   4,   2,  52,   0,   0,   1,   0,   0,   0],\n",
              "       [  0,   0,   0,   0,   0,   1,  68,   7,   0,   0,   0,   0],\n",
              "       [  0,   1,   0,   0,   0,   0,   1,  81,   0,   0,   0,   0],\n",
              "       [  0,   0,   0,   1,   0,   0,   0,   0, 108,   0,   0,   0],\n",
              "       [  0,   0,   0,   1,   0,   1,   0,   1,  13,  29,   0,   0],\n",
              "       [  0,   0,   0,   0,   5,   1,   0,   0,   7,   0,  45,   0],\n",
              "       [  0,   0,   0,   0,   0,  13,   0,   1,  10,   1,   0,   6]])"
            ]
          },
          "metadata": {
            "tags": []
          },
          "execution_count": 38
        }
      ]
    },
    {
      "cell_type": "code",
      "metadata": {
        "colab": {
          "base_uri": "https://localhost:8080/"
        },
        "id": "61knI3ztIueq",
        "outputId": "7dc923c8-a023-46c3-cec3-cec9bfba6f6b"
      },
      "source": [
        "dump(clf, 'rf_fasttext.joblib')"
      ],
      "execution_count": null,
      "outputs": [
        {
          "output_type": "execute_result",
          "data": {
            "text/plain": [
              "['rf_fasttext.joblib']"
            ]
          },
          "metadata": {
            "tags": []
          },
          "execution_count": 39
        }
      ]
    }
  ]
}