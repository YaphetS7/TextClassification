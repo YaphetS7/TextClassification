{
  "nbformat": 4,
  "nbformat_minor": 0,
  "metadata": {
    "colab": {
      "name": "classic_ML_Elmo_features.ipynb",
      "provenance": []
    },
    "kernelspec": {
      "name": "python3",
      "display_name": "Python 3"
    },
    "accelerator": "GPU"
  },
  "cells": [
    {
      "cell_type": "code",
      "metadata": {
        "id": "PTTC4Wbe-3m0"
      },
      "source": [
        "!pip install deeppavlov"
      ],
      "execution_count": null,
      "outputs": []
    },
    {
      "cell_type": "code",
      "metadata": {
        "id": "WsvQr_GyL70Q"
      },
      "source": [
        "!pip install tensorflow==1.15"
      ],
      "execution_count": null,
      "outputs": []
    },
    {
      "cell_type": "code",
      "metadata": {
        "colab": {
          "base_uri": "https://localhost:8080/"
        },
        "id": "_7KvM-OM-cRr",
        "outputId": "9fc556b1-4517-4f70-c3b3-e21e4bde249f"
      },
      "source": [
        "from deeppavlov.models.embedders.elmo_embedder import ELMoEmbedder\r\n",
        "\r\n",
        "import pandas as pd\r\n",
        "import numpy as np\r\n",
        "import seaborn as sns\r\n",
        "\r\n",
        "from spacy.lang.ru import Russian\r\n",
        "import nltk\r\n",
        "from nltk.corpus import stopwords\r\n",
        "from string import punctuation\r\n",
        "\r\n",
        "from joblib import dump, load\r\n",
        "\r\n",
        "from sklearn.linear_model import LogisticRegression\r\n",
        "from sklearn.svm import SVC\r\n",
        "from sklearn.ensemble import RandomForestClassifier\r\n",
        "from sklearn.metrics import f1_score\r\n",
        "from sklearn.metrics import accuracy_score\r\n",
        "from sklearn.metrics import confusion_matrix\r\n",
        "\r\n",
        "nltk.download(\"stopwords\")"
      ],
      "execution_count": null,
      "outputs": [
        {
          "output_type": "stream",
          "text": [
            "[nltk_data] Downloading package punkt to /root/nltk_data...\n",
            "[nltk_data]   Unzipping tokenizers/punkt.zip.\n",
            "[nltk_data] Downloading package stopwords to /root/nltk_data...\n",
            "[nltk_data]   Unzipping corpora/stopwords.zip.\n",
            "[nltk_data] Downloading package perluniprops to /root/nltk_data...\n",
            "[nltk_data]   Unzipping misc/perluniprops.zip.\n",
            "[nltk_data] Downloading package nonbreaking_prefixes to\n",
            "[nltk_data]     /root/nltk_data...\n",
            "[nltk_data]   Unzipping corpora/nonbreaking_prefixes.zip.\n",
            "[nltk_data] Downloading package stopwords to /root/nltk_data...\n",
            "[nltk_data]   Package stopwords is already up-to-date!\n"
          ],
          "name": "stderr"
        },
        {
          "output_type": "execute_result",
          "data": {
            "text/plain": [
              "True"
            ]
          },
          "metadata": {
            "tags": []
          },
          "execution_count": 2
        }
      ]
    },
    {
      "cell_type": "code",
      "metadata": {
        "id": "pct0lHAJmjCB"
      },
      "source": [
        "train = pd.read_csv('trainSet.csv')\r\n",
        "test = pd.read_csv('testSet.csv')"
      ],
      "execution_count": null,
      "outputs": []
    },
    {
      "cell_type": "code",
      "metadata": {
        "id": "M4sjObwImkrB"
      },
      "source": [
        "y_train = np.array(train['Class'])\r\n",
        "y_test = np.array(test['Class'])"
      ],
      "execution_count": null,
      "outputs": []
    },
    {
      "cell_type": "code",
      "metadata": {
        "colab": {
          "base_uri": "https://localhost:8080/"
        },
        "id": "S6_dbyYNmmOx",
        "outputId": "7e41c100-1357-44ec-d2ba-090726c373d6"
      },
      "source": [
        "print(np.unique(y_train))\r\n",
        "print(np.unique(y_test))"
      ],
      "execution_count": null,
      "outputs": [
        {
          "output_type": "stream",
          "text": [
            "[ 1  3  8 21 22 23 31 32 41 42 43 44]\n",
            "[ 1  3  8 21 22 23 31 32 41 42 43 44 51 52 53 54 55 56 57 58 59 60 61]\n"
          ],
          "name": "stdout"
        }
      ]
    },
    {
      "cell_type": "code",
      "metadata": {
        "colab": {
          "base_uri": "https://localhost:8080/"
        },
        "id": "ObtPfFlnmnzg",
        "outputId": "9da2f8b3-5011-4f4b-d2d9-f078267b2d07"
      },
      "source": [
        "test = test[test['Class'] <=44]\r\n",
        "\r\n",
        "y_test = np.array(test['Class'])\r\n",
        "\r\n",
        "print(np.unique(y_train))\r\n",
        "print(np.unique(y_test))"
      ],
      "execution_count": null,
      "outputs": [
        {
          "output_type": "stream",
          "text": [
            "[ 1  3  8 21 22 23 31 32 41 42 43 44]\n",
            "[ 1  3  8 21 22 23 31 32 41 42 43 44]\n"
          ],
          "name": "stdout"
        }
      ]
    },
    {
      "cell_type": "code",
      "metadata": {
        "colab": {
          "base_uri": "https://localhost:8080/"
        },
        "id": "n6JcQBCqmpTx",
        "outputId": "c2234c9b-6b12-412c-b20f-b2ca49b22d5d"
      },
      "source": [
        "d = {}\r\n",
        "inv_d = {}\r\n",
        "l = np.unique(y_train)\r\n",
        "for i in range(len(l)):\r\n",
        "  d[i] = l[i]\r\n",
        "  inv_d[l[i]] = i\r\n",
        "print(d)\r\n",
        "print(inv_d)\r\n",
        "y_train = np.array([inv_d[i] for i in y_train])\r\n",
        "y_test = np.array([inv_d[i] for i in y_test])\r\n",
        "print(np.unique(y_train))\r\n",
        "print(np.unique(y_test))\r\n",
        "print(len(y_train))\r\n",
        "print(len(y_test))"
      ],
      "execution_count": null,
      "outputs": [
        {
          "output_type": "stream",
          "text": [
            "{0: 1, 1: 3, 2: 8, 3: 21, 4: 22, 5: 23, 6: 31, 7: 32, 8: 41, 9: 42, 10: 43, 11: 44}\n",
            "{1: 0, 3: 1, 8: 2, 21: 3, 22: 4, 23: 5, 31: 6, 32: 7, 41: 8, 42: 9, 43: 10, 44: 11}\n",
            "[ 0  1  2  3  4  5  6  7  8  9 10 11]\n",
            "[ 0  1  2  3  4  5  6  7  8  9 10 11]\n",
            "2244\n",
            "963\n"
          ],
          "name": "stdout"
        }
      ]
    },
    {
      "cell_type": "code",
      "metadata": {
        "colab": {
          "base_uri": "https://localhost:8080/"
        },
        "id": "ET8CWCsCmqtB",
        "outputId": "910b0e6c-e18c-42f8-812f-3c8f916f1c76"
      },
      "source": [
        "X_train = train['Text']\r\n",
        "X_test = test['Text']\r\n",
        "\r\n",
        "print(len(X_train))\r\n",
        "print(len(X_test))"
      ],
      "execution_count": null,
      "outputs": [
        {
          "output_type": "stream",
          "text": [
            "2244\n",
            "963\n"
          ],
          "name": "stdout"
        }
      ]
    },
    {
      "cell_type": "code",
      "metadata": {
        "id": "BB4QT6ku-2h4"
      },
      "source": [
        "elmo = ELMoEmbedder(\"http://files.deeppavlov.ai/deeppavlov_data/elmo_ru-news_wmt11-16_1.5M_steps.tar.gz\")"
      ],
      "execution_count": null,
      "outputs": []
    },
    {
      "cell_type": "code",
      "metadata": {
        "id": "qkyo7oEaDCVH"
      },
      "source": [
        "russian_stopwords = stopwords.words(\"russian\")\r\n",
        "nlp = Russian()\r\n",
        "\r\n",
        "def preprocess_text(text):\r\n",
        "  tokens = text.lower()\r\n",
        "  sentence = nlp(text.lower())\r\n",
        "  tokens = [token.text for token in sentence]\r\n",
        "  tokens = [token for token in tokens if token not in russian_stopwords\\\r\n",
        "            and token != \" \" \\\r\n",
        "            and token.strip() not in punctuation]\r\n",
        "  \r\n",
        "  \r\n",
        "  return tokens"
      ],
      "execution_count": null,
      "outputs": []
    },
    {
      "cell_type": "code",
      "metadata": {
        "id": "qUI_NEa5D2m0",
        "colab": {
          "base_uri": "https://localhost:8080/"
        },
        "outputId": "5813fbdb-58d4-4d0f-fc07-fc0558889cb9"
      },
      "source": [
        "X_train = np.array([elmo([preprocess_text(text)]) for text in X_train])\r\n",
        "X_test = np.array([elmo([preprocess_text(text)]) for text in X_test])\r\n",
        "\r\n",
        "X_train = X_train.reshape((X_train.shape[0], X_train.shape[2]))\r\n",
        "X_test = X_test.reshape((X_test.shape[0], X_test.shape[2]))\r\n",
        "\r\n",
        "print(X_train.shape)\r\n",
        "print(X_test.shape)"
      ],
      "execution_count": null,
      "outputs": [
        {
          "output_type": "stream",
          "text": [
            "(2244, 1024)\n",
            "(963, 1024)\n"
          ],
          "name": "stdout"
        }
      ]
    },
    {
      "cell_type": "code",
      "metadata": {
        "colab": {
          "base_uri": "https://localhost:8080/"
        },
        "id": "sNx3UPkdET0H",
        "outputId": "28e6a64c-d915-4cb7-e56a-5c6f729f2122"
      },
      "source": [
        "clf = LogisticRegression(random_state=0).fit(X_train, y_train)"
      ],
      "execution_count": null,
      "outputs": [
        {
          "output_type": "stream",
          "text": [
            "/usr/local/lib/python3.7/dist-packages/sklearn/linear_model/logistic.py:432: FutureWarning: Default solver will be changed to 'lbfgs' in 0.22. Specify a solver to silence this warning.\n",
            "  FutureWarning)\n",
            "/usr/local/lib/python3.7/dist-packages/sklearn/linear_model/logistic.py:469: FutureWarning: Default multi_class will be changed to 'auto' in 0.22. Specify the multi_class option to silence this warning.\n",
            "  \"this warning.\", FutureWarning)\n"
          ],
          "name": "stderr"
        }
      ]
    },
    {
      "cell_type": "code",
      "metadata": {
        "colab": {
          "base_uri": "https://localhost:8080/"
        },
        "id": "b983d4FQFytH",
        "outputId": "e84e8f7b-cb81-48f0-ffa4-555c760edbe9"
      },
      "source": [
        "preds = clf.predict(X_test)\r\n",
        "\r\n",
        "print(f1_score(y_test, preds, average='macro'))\r\n",
        "print(accuracy_score(y_test, preds))\r\n",
        "confusion_matrix(y_test, preds)"
      ],
      "execution_count": null,
      "outputs": [
        {
          "output_type": "stream",
          "text": [
            "0.9331643139670344\n",
            "0.9418483904465212\n"
          ],
          "name": "stdout"
        },
        {
          "output_type": "execute_result",
          "data": {
            "text/plain": [
              "array([[120,   0,   2,   0,   0,   0,   0,   0,   0,   0,   0,   0],\n",
              "       [  1,  85,   3,   0,   0,   0,   0,   1,   0,   0,   0,   0],\n",
              "       [  2,   4,  74,   0,   0,   0,   0,   1,   0,   0,   0,   0],\n",
              "       [  0,   0,   0, 109,   3,   2,   1,   0,   0,   1,   0,   0],\n",
              "       [  0,   0,   0,   3,  87,   0,   2,   0,   0,   0,   1,   0],\n",
              "       [  0,   0,   0,   1,   2,  56,   0,   0,   0,   0,   0,   0],\n",
              "       [  0,   0,   0,   1,   0,   0,  71,   4,   0,   0,   0,   0],\n",
              "       [  0,   1,   0,   0,   0,   0,   0,  82,   0,   0,   0,   0],\n",
              "       [  0,   0,   0,   0,   0,   0,   0,   0, 105,   1,   3,   0],\n",
              "       [  0,   0,   0,   0,   0,   0,   0,   0,   4,  40,   0,   1],\n",
              "       [  0,   0,   0,   0,   3,   0,   0,   0,   0,   1,  54,   0],\n",
              "       [  0,   0,   0,   0,   0,   5,   0,   0,   2,   0,   0,  24]])"
            ]
          },
          "metadata": {
            "tags": []
          },
          "execution_count": 13
        }
      ]
    },
    {
      "cell_type": "code",
      "metadata": {
        "colab": {
          "base_uri": "https://localhost:8080/"
        },
        "id": "-gviEXpsFOmi",
        "outputId": "f675fc26-6b65-4741-8f51-f59881f4800a"
      },
      "source": [
        "dump(clf, 'log_reg_elmo.joblib')"
      ],
      "execution_count": null,
      "outputs": [
        {
          "output_type": "execute_result",
          "data": {
            "text/plain": [
              "['log_reg_elmo.joblib']"
            ]
          },
          "metadata": {
            "tags": []
          },
          "execution_count": 14
        }
      ]
    },
    {
      "cell_type": "code",
      "metadata": {
        "colab": {
          "base_uri": "https://localhost:8080/"
        },
        "id": "TlF_QRRxF8k-",
        "outputId": "94c7ae7d-b77b-41ff-a11b-5774555e1e4d"
      },
      "source": [
        "clf = SVC().fit(X_train, y_train)"
      ],
      "execution_count": null,
      "outputs": [
        {
          "output_type": "stream",
          "text": [
            "/usr/local/lib/python3.7/dist-packages/sklearn/svm/base.py:193: FutureWarning: The default value of gamma will change from 'auto' to 'scale' in version 0.22 to account better for unscaled features. Set gamma explicitly to 'auto' or 'scale' to avoid this warning.\n",
            "  \"avoid this warning.\", FutureWarning)\n"
          ],
          "name": "stderr"
        }
      ]
    },
    {
      "cell_type": "code",
      "metadata": {
        "colab": {
          "base_uri": "https://localhost:8080/"
        },
        "id": "806-L2I1F-bH",
        "outputId": "cee53253-0417-4a64-ac1e-4acd309c0ca0"
      },
      "source": [
        "preds = clf.predict(X_test)\r\n",
        "\r\n",
        "print(f1_score(y_test, preds, average='macro'))\r\n",
        "print(accuracy_score(y_test, preds))\r\n",
        "confusion_matrix(y_test, preds)"
      ],
      "execution_count": null,
      "outputs": [
        {
          "output_type": "stream",
          "text": [
            "0.7741326962463085\n",
            "0.8483904465212876\n"
          ],
          "name": "stdout"
        },
        {
          "output_type": "stream",
          "text": [
            "/usr/local/lib/python3.7/dist-packages/sklearn/metrics/classification.py:1437: UndefinedMetricWarning: F-score is ill-defined and being set to 0.0 in labels with no predicted samples.\n",
            "  'precision', 'predicted', average, warn_for)\n"
          ],
          "name": "stderr"
        },
        {
          "output_type": "execute_result",
          "data": {
            "text/plain": [
              "array([[115,   0,   7,   0,   0,   0,   0,   0,   0,   0,   0,   0],\n",
              "       [  2,  79,   9,   0,   0,   0,   0,   0,   0,   0,   0,   0],\n",
              "       [  3,   3,  74,   0,   0,   0,   0,   1,   0,   0,   0,   0],\n",
              "       [  0,   0,   0, 104,   6,   2,   0,   0,   3,   1,   0,   0],\n",
              "       [  0,   0,   0,   6,  87,   0,   0,   0,   0,   0,   0,   0],\n",
              "       [  0,   0,   0,  11,   2,  45,   0,   0,   1,   0,   0,   0],\n",
              "       [  0,   0,   0,   1,   2,   0,  66,   7,   0,   0,   0,   0],\n",
              "       [  0,   0,   0,   0,   0,   0,   0,  83,   0,   0,   0,   0],\n",
              "       [  0,   0,   0,   2,   1,   0,   0,   0, 102,   0,   4,   0],\n",
              "       [  0,   0,   0,   4,   0,   0,   0,   0,  19,  22,   0,   0],\n",
              "       [  0,   0,   0,   0,   6,   0,   0,   0,  12,   0,  40,   0],\n",
              "       [  0,   0,   0,   0,   0,  19,   0,   0,  11,   1,   0,   0]])"
            ]
          },
          "metadata": {
            "tags": []
          },
          "execution_count": 16
        }
      ]
    },
    {
      "cell_type": "code",
      "metadata": {
        "colab": {
          "base_uri": "https://localhost:8080/"
        },
        "id": "hVUoHgw2F82J",
        "outputId": "617c1ed7-4af8-413a-82a2-fa7d05e2c8ee"
      },
      "source": [
        "dump(clf, 'svm_elmo.joblib')"
      ],
      "execution_count": null,
      "outputs": [
        {
          "output_type": "execute_result",
          "data": {
            "text/plain": [
              "['svm_elmo.joblib']"
            ]
          },
          "metadata": {
            "tags": []
          },
          "execution_count": 17
        }
      ]
    },
    {
      "cell_type": "code",
      "metadata": {
        "id": "reYgfxhdGDi3"
      },
      "source": [
        "clf = RandomForestClassifier(n_estimators=200, max_depth=16, random_state=0).fit(X_train, y_train)"
      ],
      "execution_count": null,
      "outputs": []
    },
    {
      "cell_type": "code",
      "metadata": {
        "colab": {
          "base_uri": "https://localhost:8080/"
        },
        "id": "uxBOeQ5EGEUP",
        "outputId": "e0cd06ea-fef9-4e1d-9a2c-ad25a5e91161"
      },
      "source": [
        "preds = clf.predict(X_test)\r\n",
        "\r\n",
        "print(f1_score(y_test, preds, average='macro'))\r\n",
        "print(accuracy_score(y_test, preds))\r\n",
        "confusion_matrix(y_test, preds)"
      ],
      "execution_count": null,
      "outputs": [
        {
          "output_type": "stream",
          "text": [
            "0.8171760705954747\n",
            "0.857736240913811\n"
          ],
          "name": "stdout"
        },
        {
          "output_type": "execute_result",
          "data": {
            "text/plain": [
              "array([[117,   0,   5,   0,   0,   0,   0,   0,   0,   0,   0,   0],\n",
              "       [  2,  81,   7,   0,   0,   0,   0,   0,   0,   0,   0,   0],\n",
              "       [  3,   4,  74,   0,   0,   0,   0,   0,   0,   0,   0,   0],\n",
              "       [  0,   0,   0,  97,   5,   3,   1,   0,   9,   1,   0,   0],\n",
              "       [  0,   0,   0,   8,  81,   0,   2,   0,   0,   0,   2,   0],\n",
              "       [  0,   0,   0,   6,   1,  46,   0,   0,   5,   0,   1,   0],\n",
              "       [  0,   0,   0,   0,   2,   1,  67,   6,   0,   0,   0,   0],\n",
              "       [  0,   0,   0,   0,   0,   0,   1,  82,   0,   0,   0,   0],\n",
              "       [  0,   0,   0,   1,   0,   0,   0,   0, 106,   1,   1,   0],\n",
              "       [  0,   0,   0,   0,   0,   2,   0,   0,  16,  27,   0,   0],\n",
              "       [  0,   0,   0,   0,   7,   0,   0,   0,  11,   0,  40,   0],\n",
              "       [  0,   0,   0,   0,   0,  13,   0,   0,   9,   1,   0,   8]])"
            ]
          },
          "metadata": {
            "tags": []
          },
          "execution_count": 19
        }
      ]
    },
    {
      "cell_type": "code",
      "metadata": {
        "id": "QD1886mBGEph",
        "colab": {
          "base_uri": "https://localhost:8080/"
        },
        "outputId": "a15873e0-5fb7-45bf-ca42-a237713369cb"
      },
      "source": [
        "dump(clf, 'rf_elmo.joblib')"
      ],
      "execution_count": null,
      "outputs": [
        {
          "output_type": "execute_result",
          "data": {
            "text/plain": [
              "['rf_elmo.joblib']"
            ]
          },
          "metadata": {
            "tags": []
          },
          "execution_count": 20
        }
      ]
    },
    {
      "cell_type": "code",
      "metadata": {
        "colab": {
          "base_uri": "https://localhost:8080/"
        },
        "id": "lBPEhP2lIHuK",
        "outputId": "d042940a-a96b-4d48-ba13-b4d2973d3505"
      },
      "source": [
        "X_train = np.array([elmo2([preprocess_text(text)]) for text in X_train])\r\n",
        "X_test = np.array([elmo2([preprocess_text(text)]) for text in X_test])\r\n",
        "\r\n",
        "X_train = X_train.reshape((X_train.shape[0], X_train.shape[2]))\r\n",
        "X_test = X_test.reshape((X_test.shape[0], X_test.shape[2]))\r\n",
        "\r\n",
        "print(X_train.shape)\r\n",
        "print(X_test.shape)"
      ],
      "execution_count": null,
      "outputs": [
        {
          "output_type": "stream",
          "text": [
            "(2244, 1024)\n",
            "(963, 1024)\n"
          ],
          "name": "stdout"
        }
      ]
    }
  ]
}