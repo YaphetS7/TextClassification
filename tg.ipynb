{
  "nbformat": 4,
  "nbformat_minor": 0,
  "metadata": {
    "accelerator": "GPU",
    "colab": {
      "name": "tg.ipynb",
      "provenance": []
    },
    "kernelspec": {
      "display_name": "Python 3",
      "name": "python3"
    }
  },
  "cells": [
    {
      "cell_type": "code",
      "metadata": {
        "id": "66f_ifRQKz0q"
      },
      "source": [
        "from google.colab import drive\r\n",
        "drive.mount('/content/drive')"
      ],
      "execution_count": null,
      "outputs": []
    },
    {
      "cell_type": "code",
      "metadata": {
        "id": "40ojHTMrKpqr"
      },
      "source": [
        "!pip install pytelegrambotapi"
      ],
      "execution_count": null,
      "outputs": []
    },
    {
      "cell_type": "code",
      "metadata": {
        "id": "E2IDDGAnLIph"
      },
      "source": [
        "!pip install fasttext\r\n",
        "!pip install pymorphy2"
      ],
      "execution_count": null,
      "outputs": []
    },
    {
      "cell_type": "code",
      "metadata": {
        "id": "CD5LXUBVLVXS"
      },
      "source": [
        "!pip install deeppavlov"
      ],
      "execution_count": null,
      "outputs": []
    },
    {
      "cell_type": "code",
      "metadata": {
        "id": "F9L-bnEnLZ3h"
      },
      "source": [
        "!pip install tensorflow==1.15"
      ],
      "execution_count": null,
      "outputs": []
    },
    {
      "cell_type": "code",
      "metadata": {
        "id": "DBt8dv2FL1jJ"
      },
      "source": [
        "!pip install transformers"
      ],
      "execution_count": null,
      "outputs": []
    },
    {
      "cell_type": "code",
      "metadata": {
        "id": "dF6aSETJO3tB"
      },
      "source": [
        "!pip install \"scikit_learn==0.22.2.post1\""
      ],
      "execution_count": null,
      "outputs": []
    },
    {
      "cell_type": "code",
      "metadata": {
        "id": "FtAkk15PLLLz"
      },
      "source": [
        "import telebot\r\n",
        "\r\n",
        "from deeppavlov.models.embedders.elmo_embedder import ELMoEmbedder\r\n",
        "\r\n",
        "import pandas as pd\r\n",
        "import numpy as np\r\n",
        "import seaborn as sns\r\n",
        "\r\n",
        "import fasttext\r\n",
        "import fasttext.util\r\n",
        "\r\n",
        "from spacy.lang.ru import Russian\r\n",
        "import nltk\r\n",
        "from nltk.corpus import stopwords\r\n",
        "from string import punctuation\r\n",
        "\r\n",
        "from joblib import dump, load\r\n",
        "\r\n",
        "from sklearn.linear_model import LogisticRegression\r\n",
        "from sklearn.svm import SVC\r\n",
        "from sklearn.ensemble import RandomForestClassifier\r\n",
        "\r\n",
        "import torch\r\n",
        "import torch.nn as nn\r\n",
        "from sklearn.model_selection import train_test_split\r\n",
        "from sklearn.metrics import classification_report\r\n",
        "import transformers\r\n",
        "from transformers import AutoModel, BertTokenizerFast\r\n",
        "\r\n",
        "nltk.download(\"stopwords\")\r\n",
        "\r\n",
        "device = torch.device(\"cuda\")"
      ],
      "execution_count": null,
      "outputs": []
    },
    {
      "cell_type": "code",
      "metadata": {
        "id": "gR5fEHujLgkh"
      },
      "source": [
        "elmo = ELMoEmbedder(\"http://files.deeppavlov.ai/deeppavlov_data/elmo_ru-news_wmt11-16_1.5M_steps.tar.gz\")"
      ],
      "execution_count": null,
      "outputs": []
    },
    {
      "cell_type": "code",
      "metadata": {
        "id": "6r16OtK0NUnT"
      },
      "source": [
        "log_reg_elmo = load('drive/MyDrive/log_reg_elmo.joblib')"
      ],
      "execution_count": null,
      "outputs": []
    },
    {
      "cell_type": "code",
      "metadata": {
        "id": "fKQZtj5OLrHC"
      },
      "source": [
        "russian_stopwords = stopwords.words(\"russian\")\r\n",
        "nlp = Russian()\r\n",
        "\r\n",
        "def preprocess_text_elmo(text):\r\n",
        "  tokens = text.lower()\r\n",
        "  sentence = nlp(text.lower())\r\n",
        "  tokens = [token.text for token in sentence]\r\n",
        "  tokens = [token for token in tokens if token not in russian_stopwords\\\r\n",
        "            and token != \" \" \\\r\n",
        "            and token.strip() not in punctuation]\r\n",
        "  \r\n",
        "  \r\n",
        "  return tokens\r\n"
      ],
      "execution_count": 7,
      "outputs": []
    },
    {
      "cell_type": "code",
      "metadata": {
        "id": "zIS79UKF6Kya"
      },
      "source": [
        "d = {\r\n",
        "    0:'Курсы валют',\r\n",
        "    1:'Условия - Комиссии',\r\n",
        "    2:'Ограничения - Лимиты',\r\n",
        "    3:'Запрос на оформление потребительского кредита',\r\n",
        "    4:'Уточнить статус заявки по потребительскому кредиту: сумма, ставка, срок, дальнейшие действия',\r\n",
        "    5:'Запрос основной информации по страховке по потребительскому кредиту',\r\n",
        "    6:'Заказ кредитной карты',\r\n",
        "    7:'Заказ дебетовой карты',\r\n",
        "    8:'Заявка на ипотечное кредитование',\r\n",
        "    9:'Заявка на рефинансирование ипотечного кредита',\r\n",
        "    10:'Уточнить статус заявки по ипотечному кредиту: сумма, ставка, срок, дальнейшие действия',\r\n",
        "    11:'Запрос основной информации по страховке по ипотечному кредиту'\r\n",
        "}"
      ],
      "execution_count": 8,
      "outputs": []
    },
    {
      "cell_type": "code",
      "metadata": {
        "id": "qwPTJf5iQh_6"
      },
      "source": [
        "def classify(text):\r\n",
        "\r\n",
        "  elmo_emb = elmo([preprocess_text_elmo(text)])\r\n",
        "  elmo_emb = elmo_emb.reshape((elmo_emb.shape[0], elmo_emb.shape[1]))\r\n",
        "\r\n",
        "  log_reg_elmo_res = log_reg_elmo.predict(elmo_emb)\r\n",
        "\r\n",
        "\r\n",
        "  return d[log_reg_elmo_res[0]] "
      ],
      "execution_count": 11,
      "outputs": []
    },
    {
      "cell_type": "code",
      "metadata": {
        "id": "Sbrsyr27KlFG"
      },
      "source": [
        "bot = telebot.TeleBot('1690424261:AAETkJ6T61-nXERmtnElWqpJonOFmpKemWw')\r\n",
        "\r\n",
        "@bot.message_handler(commands=['start'])\r\n",
        "def start_message(message):\r\n",
        "  bot.send_message(message.chat.id, 'Пиши мне, а я буду отвечать')\r\n",
        "\r\n",
        "@bot.message_handler(content_types=['text'])\r\n",
        "def send_text(message):\r\n",
        "  text = message.text\r\n",
        "  bot.send_message(message.chat.id, classify(text))\r\n",
        "\r\n",
        "\r\n",
        "\r\n",
        "bot.polling()"
      ],
      "execution_count": 12,
      "outputs": []
    },
    {
      "cell_type": "code",
      "metadata": {
        "id": "qsQeO4TBQY0C"
      },
      "source": [
        ""
      ],
      "execution_count": null,
      "outputs": []
    }
  ]
}